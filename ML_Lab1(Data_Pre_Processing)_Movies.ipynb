{
  "nbformat": 4,
  "nbformat_minor": 0,
  "metadata": {
    "colab": {
      "provenance": [],
      "authorship_tag": "ABX9TyOmCXgVKxJkE6s1kT6cU6sU",
      "include_colab_link": true
    },
    "kernelspec": {
      "name": "python3",
      "display_name": "Python 3"
    },
    "language_info": {
      "name": "python"
    }
  },
  "cells": [
    {
      "cell_type": "markdown",
      "metadata": {
        "id": "view-in-github",
        "colab_type": "text"
      },
      "source": [
        "<a href=\"https://colab.research.google.com/github/Kirancs226/ML-Pro1/blob/main/ML_Lab1(Data_Pre_Processing)_Movies.ipynb\" target=\"_parent\"><img src=\"https://colab.research.google.com/assets/colab-badge.svg\" alt=\"Open In Colab\"/></a>"
      ]
    },
    {
      "cell_type": "code",
      "execution_count": 11,
      "metadata": {
        "id": "9Ctnh4G7-6Ws"
      },
      "outputs": [],
      "source": [
        "import pandas as pd\n",
        "from sklearn.preprocessing import LabelEncoder"
      ]
    },
    {
      "cell_type": "code",
      "source": [
        "df = pd.read_csv(\"/content/movies.csv\")"
      ],
      "metadata": {
        "id": "dZgnGde0_R_X"
      },
      "execution_count": 4,
      "outputs": []
    },
    {
      "cell_type": "code",
      "source": [
        "print(\"Missing values before processing:\\n\", df.isnull().sum())"
      ],
      "metadata": {
        "colab": {
          "base_uri": "https://localhost:8080/"
        },
        "id": "fOhbjD6X_s7d",
        "outputId": "9a7f5ac1-73d0-429b-86cf-cfd71e7df9af"
      },
      "execution_count": null,
      "outputs": [
        {
          "output_type": "stream",
          "name": "stdout",
          "text": [
            "Missing values before processing:\n",
            " MOVIES         0\n",
            "YEAR         644\n",
            "GENRE         80\n",
            "RATING      1820\n",
            "ONE-LINE       0\n",
            "STARS          0\n",
            "VOTES       1820\n",
            "RunTime     2958\n",
            "Gross       9539\n",
            "dtype: int64\n"
          ]
        }
      ]
    },
    {
      "cell_type": "code",
      "source": [
        "for col in df.columns:\n",
        "    if df[col].isnull().sum() > 0:\n",
        "        # if df[col].dtype == \"object\":  # Categorical: Fill with mode\n",
        "            df[col].fillna(df[col].mode()[0], inplace=True)\n",
        "        # else:  # Numerical: Fill with mean\n",
        "        #     df[col].fillna(df[col].mean(), inplace=True)"
      ],
      "metadata": {
        "colab": {
          "base_uri": "https://localhost:8080/"
        },
        "id": "e-TGIdgJABDv",
        "outputId": "5444f98b-55b6-450a-f45c-67574574384e"
      },
      "execution_count": 5,
      "outputs": [
        {
          "output_type": "stream",
          "name": "stderr",
          "text": [
            "<ipython-input-5-fe73771b09cc>:4: FutureWarning: A value is trying to be set on a copy of a DataFrame or Series through chained assignment using an inplace method.\n",
            "The behavior will change in pandas 3.0. This inplace method will never work because the intermediate object on which we are setting values always behaves as a copy.\n",
            "\n",
            "For example, when doing 'df[col].method(value, inplace=True)', try using 'df.method({col: value}, inplace=True)' or df[col] = df[col].method(value) instead, to perform the operation inplace on the original object.\n",
            "\n",
            "\n",
            "  df[col].fillna(df[col].mode()[0], inplace=True)\n"
          ]
        }
      ]
    },
    {
      "cell_type": "code",
      "source": [
        "print(\"Missing values after processing:\\n\", df.isnull().sum())"
      ],
      "metadata": {
        "colab": {
          "base_uri": "https://localhost:8080/"
        },
        "id": "HV_c5KW5AaiQ",
        "outputId": "27257bc1-167b-4c20-8822-013b1bf9a2b6"
      },
      "execution_count": 6,
      "outputs": [
        {
          "output_type": "stream",
          "name": "stdout",
          "text": [
            "Missing values after processing:\n",
            " MOVIES      0\n",
            "YEAR        0\n",
            "GENRE       0\n",
            "RATING      0\n",
            "ONE-LINE    0\n",
            "STARS       0\n",
            "VOTES       0\n",
            "RunTime     0\n",
            "Gross       0\n",
            "dtype: int64\n"
          ]
        }
      ]
    },
    {
      "cell_type": "code",
      "source": [
        "df.to_csv(\"/content/cleaned_data.csv\", index=False)\n",
        "print(\"Cleaned data saved to 'Movies_cleaned_data.csv'.\")"
      ],
      "metadata": {
        "colab": {
          "base_uri": "https://localhost:8080/"
        },
        "id": "Nf7VDXHv4bO3",
        "outputId": "0fb4916e-e082-4ed1-9ef9-e96a80eac2db"
      },
      "execution_count": 7,
      "outputs": [
        {
          "output_type": "stream",
          "name": "stdout",
          "text": [
            "Cleaned data saved to 'Movies_cleaned_data.csv'.\n"
          ]
        }
      ]
    },
    {
      "cell_type": "markdown",
      "source": [
        "# **Encoding Operation**\n",
        "\n",
        "\n",
        "\n",
        "\n",
        "# **1.** Label Encodin"
      ],
      "metadata": {
        "id": "mT-FyOI188HN"
      }
    },
    {
      "cell_type": "code",
      "source": [
        "categorical_cols = df.select_dtypes(include=['object']).columns\n"
      ],
      "metadata": {
        "id": "xm_rynVD8vFz"
      },
      "execution_count": 8,
      "outputs": []
    },
    {
      "cell_type": "code",
      "source": [
        "print(categorical_cols)"
      ],
      "metadata": {
        "colab": {
          "base_uri": "https://localhost:8080/"
        },
        "id": "HEQg2SVK8xj0",
        "outputId": "5dd386fb-257f-46e9-d8bd-36f8a0a959eb"
      },
      "execution_count": 9,
      "outputs": [
        {
          "output_type": "stream",
          "name": "stdout",
          "text": [
            "Index(['MOVIES', 'YEAR', 'GENRE', 'ONE-LINE', 'STARS', 'VOTES', 'Gross'], dtype='object')\n"
          ]
        }
      ]
    },
    {
      "cell_type": "code",
      "source": [
        "label_encoder = LabelEncoder()\n",
        "df_label_encoded = df.copy()\n",
        "for col in categorical_cols:\n",
        "    df_label_encoded[col] = label_encoder.fit_transform(df_label_encoded[col])\n"
      ],
      "metadata": {
        "id": "K2E_jWoi-ixj"
      },
      "execution_count": 12,
      "outputs": []
    },
    {
      "cell_type": "code",
      "source": [
        "print(\"\\nLabel Encoded Data:\")\n",
        "print(df_label_encoded)"
      ],
      "metadata": {
        "colab": {
          "base_uri": "https://localhost:8080/"
        },
        "id": "BlRqlDyU-6Ok",
        "outputId": "ff097290-428e-454d-fb3a-6009d8dbd840"
      },
      "execution_count": 14,
      "outputs": [
        {
          "output_type": "stream",
          "name": "stdout",
          "text": [
            "\n",
            "Label Encoded Data:\n",
            "      MOVIES  YEAR  GENRE  RATING  ONE-LINE  STARS  VOTES  RunTime  Gross\n",
            "0       1139   338     60     6.1      1548   6057   1656    121.0      1\n",
            "1       3719   339    112     5.0      7482    622   1110     25.0      1\n",
            "2       6022   222    387     8.2      6371    305   3938     44.0      1\n",
            "3       4621   255    123     9.2      2222   1476   2777     23.0      1\n",
            "4        836   338     31     7.2      1108   5543   3513     24.0      1\n",
            "...      ...   ...    ...     ...       ...    ...    ...      ...    ...\n",
            "9994     325   339     86     7.2      1744   1975   3513     24.0      1\n",
            "9995      20   339    112     7.2      1744      0   3513     24.0      1\n",
            "9996     139   342    350     7.2      1744   5901   3513     24.0      1\n",
            "9997     325   339     86     7.2      1744   4907   3513     24.0      1\n",
            "9998     325   339     86     7.2      1744   4908   3513     24.0      1\n",
            "\n",
            "[9999 rows x 9 columns]\n"
          ]
        }
      ]
    },
    {
      "cell_type": "markdown",
      "source": [
        "#**2.** One-Hot Encoding"
      ],
      "metadata": {
        "id": "ILa7PZhb_Pgx"
      }
    },
    {
      "cell_type": "code",
      "source": [
        "df_one_hot_encoded = pd.get_dummies(df, columns=categorical_cols, drop_first=True)"
      ],
      "metadata": {
        "id": "FdoqA6hY_Z3b"
      },
      "execution_count": 15,
      "outputs": []
    },
    {
      "cell_type": "code",
      "source": [
        "print(\"\\nOne-Hot Encoded Data:\")\n",
        "print(df_one_hot_encoded.head())"
      ],
      "metadata": {
        "colab": {
          "base_uri": "https://localhost:8080/"
        },
        "id": "AcRI5lkx_z8Y",
        "outputId": "1d825fef-533e-46d6-c2b5-4ad51de92d2c"
      },
      "execution_count": 16,
      "outputs": [
        {
          "output_type": "stream",
          "name": "stdout",
          "text": [
            "\n",
            "One-Hot Encoded Data:\n",
            "   RATING  RunTime  MOVIES_ 1899  MOVIES_ 3Below: Tales of Arcadia  \\\n",
            "0     6.1    121.0         False                             False   \n",
            "1     5.0     25.0         False                             False   \n",
            "2     8.2     44.0         False                             False   \n",
            "3     9.2     23.0         False                             False   \n",
            "4     7.2     24.0         False                             False   \n",
            "\n",
            "   MOVIES_ 50M2  MOVIES_ 7Seeds  MOVIES_ 800 metros  MOVIES_ A Suitable Boy  \\\n",
            "0         False           False               False                   False   \n",
            "1         False           False               False                   False   \n",
            "2         False           False               False                   False   \n",
            "3         False           False               False                   False   \n",
            "4         False           False               False                   False   \n",
            "\n",
            "   MOVIES_ Ada Twist, Scientist  MOVIES_ After Life  ...  Gross_$89.26M  \\\n",
            "0                         False               False  ...          False   \n",
            "1                         False               False  ...          False   \n",
            "2                         False               False  ...          False   \n",
            "3                         False               False  ...          False   \n",
            "4                         False               False  ...          False   \n",
            "\n",
            "   Gross_$89.30M  Gross_$90.29M  Gross_$92.12M  Gross_$93.74M  Gross_$94.90M  \\\n",
            "0          False          False          False          False          False   \n",
            "1          False          False          False          False          False   \n",
            "2          False          False          False          False          False   \n",
            "3          False          False          False          False          False   \n",
            "4          False          False          False          False          False   \n",
            "\n",
            "   Gross_$95.86M  Gross_$96.52M  Gross_$97.10M  Gross_$97.69M  \n",
            "0          False          False          False          False  \n",
            "1          False          False          False          False  \n",
            "2          False          False          False          False  \n",
            "3          False          False          False          False  \n",
            "4          False          False          False          False  \n",
            "\n",
            "[5 rows x 28786 columns]\n"
          ]
        }
      ]
    }
  ]
}